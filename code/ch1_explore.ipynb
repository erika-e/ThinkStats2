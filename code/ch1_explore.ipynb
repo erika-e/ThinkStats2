{
 "metadata": {
  "language_info": {
   "codemirror_mode": {
    "name": "ipython",
    "version": 3
   },
   "file_extension": ".py",
   "mimetype": "text/x-python",
   "name": "python",
   "nbconvert_exporter": "python",
   "pygments_lexer": "ipython3",
   "version": "3.7.7-final"
  },
  "orig_nbformat": 2,
  "kernelspec": {
   "name": "python37764bit6de1fafb15eb4bf7a858039f896b5bd6",
   "display_name": "Python 3.7.7 64-bit"
  }
 },
 "nbformat": 4,
 "nbformat_minor": 2,
 "cells": [
  {
   "cell_type": "code",
   "execution_count": null,
   "metadata": {},
   "outputs": [],
   "source": [
    "import nsfg\n",
    "import numpy as np\n",
    "df = nsfg.ReadFemPreg()"
   ]
  },
  {
   "cell_type": "code",
   "execution_count": null,
   "metadata": {},
   "outputs": [],
   "source": [
    "#pring all the columns in the data frame\n",
    "df.columns"
   ]
  },
  {
   "cell_type": "code",
   "execution_count": null,
   "metadata": {},
   "outputs": [],
   "source": [
    "#assign the series to a variable and print it\n",
    "pregord = df['pregordr'] \n",
    "\n",
    "type(pregord)\n",
    "pregord"
   ]
  },
  {
   "cell_type": "code",
   "execution_count": null,
   "metadata": {},
   "outputs": [],
   "source": [
    "#if the dataframe has column names that are valid python identifiers\n",
    "#no spaces, starts with a letter, you can use dot notation instead\n",
    "caseid = df.caseid \n",
    "caseid"
   ]
  },
  {
   "cell_type": "code",
   "execution_count": null,
   "metadata": {},
   "outputs": [],
   "source": [
    "#access series elements using indices and slices\n",
    "pregord[100]\n",
    "pregord[2:5]"
   ]
  },
  {
   "cell_type": "code",
   "execution_count": null,
   "metadata": {},
   "outputs": [],
   "source": [
    "#count by outcomes\n",
    "df.outcome.value_counts().sort_index()"
   ]
  },
  {
   "cell_type": "code",
   "execution_count": null,
   "metadata": {},
   "outputs": [],
   "source": [
    "df.birthwgt_lb"
   ]
  },
  {
   "cell_type": "code",
   "execution_count": null,
   "metadata": {},
   "outputs": [],
   "source": [
    "#Comparing counts to the summary data by filtering and then counting the data frame\n",
    "bw_zero_to_five = df.loc[(df.birthwgt_lb <= 5) & (df.birthwgt_lb >= 0), 'birthwgt_lb']\n",
    "bw_zero_to_five.count()"
   ]
  },
  {
   "cell_type": "code",
   "execution_count": null,
   "metadata": {},
   "outputs": [],
   "source": [
    "#more consise way to do it without creating an extra variable\n",
    "df[(df.birthwgt_lb <= 5) & (df.birthwgt_lb >= 0)].count()"
   ]
  },
  {
   "cell_type": "code",
   "execution_count": null,
   "metadata": {},
   "outputs": [],
   "source": []
  }
 ]
}